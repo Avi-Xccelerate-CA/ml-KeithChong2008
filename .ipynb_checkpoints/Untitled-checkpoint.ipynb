{
 "cells": [
  {
   "cell_type": "code",
   "execution_count": 1,
   "id": "715180dc-bcac-475e-9f56-6c0dfb2033ae",
   "metadata": {},
   "outputs": [],
   "source": [
    "from sklearn.model_selection import train_test_split\n",
    "from sklearn import linear_model\n",
    "from sklearn.metrics import mean_squared_error, r2_score\n",
    "import math\n",
    "import pandas as pd\n",
    "from sklearn.linear_model import LinearRegression\n",
    "from sklearn.metrics import mean_squared_error, r2_score"
   ]
  },
  {
   "cell_type": "code",
   "execution_count": 13,
   "id": "0a35f1e6-5fab-401d-a26b-f42e3de1cc94",
   "metadata": {},
   "outputs": [],
   "source": [
    "df.drop(['No'],axis='columns', inplace=True)\n",
    "df.drop(['X1 transaction date'], axis='columns' ,inplace=True)"
   ]
  },
  {
   "cell_type": "code",
   "execution_count": 11,
   "id": "63cb396a-9f49-4bf2-831b-8af9ba578a86",
   "metadata": {},
   "outputs": [
    {
     "name": "stdout",
     "output_type": "stream",
     "text": [
      "   No  X1 transaction date  X2 house age  \\\n",
      "0   1             2012.917          32.0   \n",
      "1   2             2012.917          19.5   \n",
      "2   3             2013.583          13.3   \n",
      "3   4             2013.500          13.3   \n",
      "4   5             2012.833           5.0   \n",
      "\n",
      "   X3 distance to the nearest MRT station  X4 number of convenience stores  \\\n",
      "0                                84.87882                               10   \n",
      "1                               306.59470                                9   \n",
      "2                               561.98450                                5   \n",
      "3                               561.98450                                5   \n",
      "4                               390.56840                                5   \n",
      "\n",
      "   X5 latitude  X6 longitude  Y house price of unit area  \n",
      "0     24.98298     121.54024                        37.9  \n",
      "1     24.98034     121.53951                        42.2  \n",
      "2     24.98746     121.54391                        47.3  \n",
      "3     24.98746     121.54391                        54.8  \n",
      "4     24.97937     121.54245                        43.1  \n"
     ]
    }
   ],
   "source": [
    "def load():\n",
    "\t'''\n",
    "\tload the dataset\n",
    "\treturn df\n",
    "\t'''\n",
    "\tdf = pd.read_csv('data/realestate.csv')\n",
    "\t#SOLUTION START( ~ 1 line of code)\n",
    "\t\n",
    "\n",
    "\t#SOLUTION END\n",
    "\treturn df\n",
    "df = load()\n",
    "print(df.head())"
   ]
  },
  {
   "cell_type": "code",
   "execution_count": 15,
   "id": "a3122978-f17e-421b-a971-701d56e182da",
   "metadata": {},
   "outputs": [
    {
     "name": "stdout",
     "output_type": "stream",
     "text": [
      "(414, 6)\n"
     ]
    }
   ],
   "source": [
    "def getShape():\n",
    "\t'''\n",
    "\treturn the shape of dataframe\n",
    "\t'''\n",
    "\t#SOLUTION START( ~ 1 line of code)\n",
    "\t\n",
    "\treturn df.shape\n",
    "\t#SOLUTION END\n",
    "\n",
    "print(getShape())"
   ]
  },
  {
   "cell_type": "code",
   "execution_count": 19,
   "id": "22b30ad3-4761-41b1-8e0b-f69b8d462098",
   "metadata": {},
   "outputs": [
    {
     "name": "stdout",
     "output_type": "stream",
     "text": [
      "<class 'pandas.core.frame.DataFrame'>\n",
      "RangeIndex: 414 entries, 0 to 413\n",
      "Data columns (total 6 columns):\n",
      " #   Column                                  Non-Null Count  Dtype  \n",
      "---  ------                                  --------------  -----  \n",
      " 0   X2 house age                            414 non-null    float64\n",
      " 1   X3 distance to the nearest MRT station  414 non-null    float64\n",
      " 2   X4 number of convenience stores         414 non-null    int64  \n",
      " 3   X5 latitude                             414 non-null    float64\n",
      " 4   X6 longitude                            414 non-null    float64\n",
      " 5   Y house price of unit area              414 non-null    float64\n",
      "dtypes: float64(5), int64(1)\n",
      "memory usage: 19.5 KB\n",
      "None\n"
     ]
    }
   ],
   "source": [
    "def getInfo():\n",
    "\t'''\n",
    "\treturn the information of information about a DataFrame\n",
    "\tincluding the index dtype and columns, non-null values and memory usage.\n",
    "\t'''\n",
    "\t#SOLUTION START( ~ 1 line of code)\n",
    "\t\n",
    "\treturn df.info()\n",
    "\t#SOLUTION END\n",
    "\n",
    "print(getInfo())"
   ]
  },
  {
   "cell_type": "code",
   "execution_count": 21,
   "id": "e0f7d4b5-0429-445f-91f1-0407b7d150b3",
   "metadata": {},
   "outputs": [
    {
     "name": "stdout",
     "output_type": "stream",
     "text": [
      "X2 house age                              0\n",
      "X3 distance to the nearest MRT station    0\n",
      "X4 number of convenience stores           0\n",
      "X5 latitude                               0\n",
      "X6 longitude                              0\n",
      "Y house price of unit area                0\n",
      "dtype: int64\n"
     ]
    }
   ],
   "source": [
    "# Question4\n",
    "def checkNull():\n",
    "\t'''\n",
    "\tthis function check if any null value\n",
    "\texpected output:\n",
    "\tNo                                        0\n",
    "\tX1 transaction date                       0\n",
    "\tX2 house age                              0\n",
    "\tX3 distance to the nearest MRT station    0\n",
    "\tX4 number of convenience stores           0\n",
    "\tX5 latitude                               0\n",
    "\tX6 longitude                              0\n",
    "\tY house price of unit area                0\n",
    "\tdtype: int64\n",
    "\t'''\n",
    "\n",
    "\t#SOLUTION START( ~ 1 line of code)\n",
    "\treturn df.isnull().sum()\n",
    "\n",
    "\t#SOLUTION END\n",
    "\n",
    "\n",
    "print(checkNull())"
   ]
  },
  {
   "cell_type": "code",
   "execution_count": 23,
   "id": "2a194ce3-9ea9-4f0c-8631-72013dd15d31",
   "metadata": {},
   "outputs": [
    {
     "name": "stdout",
     "output_type": "stream",
     "text": [
      "       X2 house age  X3 distance to the nearest MRT station  \\\n",
      "count    414.000000                              414.000000   \n",
      "mean      17.712560                             1083.885689   \n",
      "std       11.392485                             1262.109595   \n",
      "min        0.000000                               23.382840   \n",
      "25%        9.025000                              289.324800   \n",
      "50%       16.100000                              492.231300   \n",
      "75%       28.150000                             1454.279000   \n",
      "max       43.800000                             6488.021000   \n",
      "\n",
      "       X4 number of convenience stores  X5 latitude  X6 longitude  \\\n",
      "count                       414.000000   414.000000    414.000000   \n",
      "mean                          4.094203    24.969030    121.533361   \n",
      "std                           2.945562     0.012410      0.015347   \n",
      "min                           0.000000    24.932070    121.473530   \n",
      "25%                           1.000000    24.963000    121.528085   \n",
      "50%                           4.000000    24.971100    121.538630   \n",
      "75%                           6.000000    24.977455    121.543305   \n",
      "max                          10.000000    25.014590    121.566270   \n",
      "\n",
      "       Y house price of unit area  \n",
      "count                  414.000000  \n",
      "mean                    37.980193  \n",
      "std                     13.606488  \n",
      "min                      7.600000  \n",
      "25%                     27.700000  \n",
      "50%                     38.450000  \n",
      "75%                     46.600000  \n",
      "max                    117.500000  \n"
     ]
    }
   ],
   "source": [
    "#Question5\n",
    "def getStatistic():\n",
    "\t'''\n",
    "\treturn the statistic of Dataframe such as count, mean, std, min, max, etc\n",
    "\t'''\n",
    "\n",
    "\t#SOLUTION START( ~ 1 line of code)\n",
    "\treturn df.describe()\n",
    "\t#SOLUTION END\n",
    "\n",
    "print(getStatistic())"
   ]
  },
  {
   "cell_type": "code",
   "execution_count": 109,
   "id": "e140247e-5883-40dd-89de-6a8b9890470d",
   "metadata": {},
   "outputs": [
    {
     "name": "stdout",
     "output_type": "stream",
     "text": [
      "   Y house price of unit area\n",
      "0                        37.9\n",
      "1                        42.2\n",
      "2                        47.3\n",
      "3                        54.8\n",
      "4                        43.1\n",
      "   X2 house age  X3 distance to the nearest MRT station  \\\n",
      "0          32.0                                84.87882   \n",
      "1          19.5                               306.59470   \n",
      "2          13.3                               561.98450   \n",
      "3          13.3                               561.98450   \n",
      "4           5.0                               390.56840   \n",
      "\n",
      "   X4 number of convenience stores  X5 latitude  X6 longitude  \n",
      "0                               10     24.98298     121.54024  \n",
      "1                                9     24.98034     121.53951  \n",
      "2                                5     24.98746     121.54391  \n",
      "3                                5     24.98746     121.54391  \n",
      "4                                5     24.97937     121.54245  \n"
     ]
    }
   ],
   "source": [
    "df_y = df[['Y house price of unit area']]\n",
    "df_X = df.drop(['Y house price of unit area'],axis='columns')\n",
    "\n",
    "print(df_y.head())\n",
    "print(df_X.head())"
   ]
  },
  {
   "cell_type": "code",
   "execution_count": 119,
   "id": "ab4d36c8-a656-4e8a-8021-9494d1119200",
   "metadata": {},
   "outputs": [
    {
     "name": "stdout",
     "output_type": "stream",
     "text": [
      "   X2 house age  X3 distance to the nearest MRT station  \\\n",
      "0          43.8                                57.58945   \n",
      "1           8.0                              2216.61200   \n",
      "2           7.1                              2175.03000   \n",
      "3          36.6                               488.81930   \n",
      "4           7.5                               639.61980   \n",
      "\n",
      "   X4 number of convenience stores  X5 latitude  X6 longitude  \n",
      "0                                7     24.96750     121.54069  \n",
      "1                                4     24.96007     121.51361  \n",
      "2                                3     24.96305     121.51254  \n",
      "3                                8     24.97015     121.54494  \n",
      "4                                5     24.97258     121.54814  \n"
     ]
    }
   ],
   "source": [
    "def split():\n",
    "    '''\n",
    "    IMPORTANT: this function will return four values X_train, X_test, y_train, y_test\n",
    "    '''\n",
    "    global df_X, df_y\n",
    "    \n",
    "    # Prepare features and target variable\n",
    "    X = df_X\n",
    "    y = df_y.values.ravel()  # Flatten to 1D array\n",
    "    \n",
    "    # Split the data into 80% training and 20% testing sets\n",
    "    X_train, X_test, y_train, y_test = train_test_split(X, y, test_size=0.2, random_state=42)\n",
    "\n",
    "    # Reset indices of the resulting DataFrames\n",
    "    X_train = X_train.reset_index(drop=True)\n",
    "    X_test = X_test.reset_index(drop=True)\n",
    "    y_train = pd.DataFrame(y_train, columns=['Y house price of unit area']).reset_index(drop=True)  # Convert to DataFrame\n",
    "    y_test = pd.DataFrame(y_test, columns=['Y house price of unit area']).reset_index(drop=True)    # Convert to DataFrame\n",
    "    \n",
    "    return X_train, X_test, y_train, y_test\n",
    "    # SOLUTION END\n",
    "\n",
    "X_train, X_test, y_train, y_test = split()"
   ]
  },
  {
   "cell_type": "code",
   "execution_count": null,
   "id": "46f852cd-77d3-4c9d-b11f-560cd61b98d9",
   "metadata": {},
   "outputs": [],
   "source": []
  }
 ],
 "metadata": {
  "kernelspec": {
   "display_name": "Python 3 (ipykernel)",
   "language": "python",
   "name": "python3"
  },
  "language_info": {
   "codemirror_mode": {
    "name": "ipython",
    "version": 3
   },
   "file_extension": ".py",
   "mimetype": "text/x-python",
   "name": "python",
   "nbconvert_exporter": "python",
   "pygments_lexer": "ipython3",
   "version": "3.11.7"
  }
 },
 "nbformat": 4,
 "nbformat_minor": 5
}
